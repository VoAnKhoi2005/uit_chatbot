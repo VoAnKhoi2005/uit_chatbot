{
 "cells": [
  {
   "cell_type": "code",
   "id": "initial_id",
   "metadata": {
    "collapsed": true
   },
   "source": [
    "import os\n",
    "DATA_FOLDER =r\"E:\\Github\\uit_chatbot\\graph\\data\"\n",
    "file_names = []\n",
    "\n",
    "for root, dirs, files in os.walk(DATA_FOLDER):\n",
    "    for file in files:\n",
    "        if file.lower().endswith((\".pdf\", \".doc\", \".docx\")):\n",
    "            file_names.append(os.path.join(root, file))\n",
    "\n",
    "print(len(file_names))\n",
    "for file_name in file_names:\n",
    "    print(file_name)"
   ],
   "outputs": [],
   "execution_count": null
  },
  {
   "metadata": {},
   "cell_type": "code",
   "source": [
    "import fitz\n",
    "\n",
    "pdf_path = file_names[1]\n",
    "print(pdf_path)\n",
    "doc = fitz.open(pdf_path)\n",
    "print(\"Number of pages:\", doc.page_count)\n",
    "\n",
    "text = \"\"\n",
    "for page in doc:\n",
    "    text += page.get_text(\"text\") + \"\\n\"\n",
    "\n",
    "print(text)"
   ],
   "id": "65653d0690c9991d",
   "outputs": [],
   "execution_count": null
  },
  {
   "metadata": {},
   "cell_type": "code",
   "source": [
    "page = doc.load_page(0)\n",
    "text = page.get_text(\"text\")\n",
    "\n",
    "if text.strip():\n",
    "    print(\"✅ Text detected:\")\n",
    "    print(text[:500])  # preview first 500 chars\n",
    "else:\n",
    "    print(\"⚠️ No text found — this PDF is likely a scanned image.\")\n"
   ],
   "id": "417dd85633e017a8",
   "outputs": [],
   "execution_count": null
  },
  {
   "metadata": {},
   "cell_type": "code",
   "source": [
    "import fitz\n",
    "from PIL import Image\n",
    "import pytesseract\n",
    "\n",
    "pdf_path = file_names[2]\n",
    "print(pdf_path)\n",
    "\n",
    "doc = fitz.open(pdf_path)\n",
    "text = \"\"\n",
    "for page in doc:\n",
    "    pix = page.get_pixmap()\n",
    "    img = Image.frombytes(\"RGB\", [pix.width, pix.height], pix.samples)\n",
    "    text += pytesseract.image_to_string(img, lang=\"vie\") + \"\\n\"\n",
    "\n",
    "print(text)"
   ],
   "id": "9bb59810c40c4635",
   "outputs": [],
   "execution_count": null
  },
  {
   "metadata": {
    "ExecuteTime": {
     "start_time": "2025-10-15T14:59:18.839505Z"
    }
   },
   "cell_type": "code",
   "source": [
    "from sentence_transformers import SentenceTransformer\n",
    "\n",
    "# INPUT TEXT MUST BE ALREADY WORD-SEGMENTED!\n",
    "sentences = [\"Cô ấy là một người vui_tính .\", \"Cô ấy cười nói suốt cả ngày .\"]\n",
    "\n",
    "model = SentenceTransformer('bkai-foundation-models/vietnamese-bi-encoder')\n",
    "embeddings = model.encode(sentences)\n",
    "print(embeddings)"
   ],
   "id": "48bbcf38ec72e593",
   "outputs": [
    {
     "data": {
      "text/plain": [
       "model.safetensors:   0%|          | 0.00/540M [00:00<?, ?B/s]"
      ],
      "application/vnd.jupyter.widget-view+json": {
       "version_major": 2,
       "version_minor": 0,
       "model_id": "e8b71a59ba3b4204b767be315c63203f"
      }
     },
     "metadata": {},
     "output_type": "display_data"
    }
   ],
   "execution_count": null
  }
 ],
 "metadata": {
  "kernelspec": {
   "display_name": "Python 3",
   "language": "python",
   "name": "python3"
  },
  "language_info": {
   "codemirror_mode": {
    "name": "ipython",
    "version": 2
   },
   "file_extension": ".py",
   "mimetype": "text/x-python",
   "name": "python",
   "nbconvert_exporter": "python",
   "pygments_lexer": "ipython2",
   "version": "2.7.6"
  }
 },
 "nbformat": 4,
 "nbformat_minor": 5
}
